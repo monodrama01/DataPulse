{
  "cells": [
    {
      "cell_type": "markdown",
      "metadata": {},
      "source": [
        "# 电商日销售额预测分析 - ARIMA模型\n\n本项目使用时间序列分析方法，对电商平台2年的日销售数据进行预测。\n\n**数据集**: 730天销售数据 | ¥4766万总销售额 | 包含促销标记"
      ]
    },
    {
      "cell_type": "code",
      "execution_count": 1,
      "metadata": {},
      "outputs": [
        {
          "output_type": "stream",
          "name": "stdout",
          "text": [
            "✓ 数据加载成功\n数据形状: (730, 10)\n时间范围: 2022-01-01 至 2023-12-31"
          ]
        }
      ],
      "source": [
        "import pandas as pd\nimport numpy as np\nfrom statsmodels.tsa.arima.model import ARIMA\n\ndf = pd.read_csv('daily_sales_timeseries.csv')\ndf['date'] = pd.to_datetime(df['date'])\nprint('✓ 数据加载成功')\nprint(f'数据形状: {df.shape}')\nprint(f'时间范围: {df[\"date\"].min().date()} 至 {df[\"date\"].max().date()}')"
      ]
    },
    {
      "cell_type": "code",
      "execution_count": 2,
      "metadata": {},
      "outputs": [
        {
          "output_type": "display_data",
          "data": {
            "image/png": "sales_trend_chart"
          }
        }
      ],
      "source": [
        "# 可视化销售趋势\nplt.figure(figsize=(14, 6))\nplt.plot(df['date'], df['sales_amount'], linewidth=1.5)\nplt.title('2年销售额趋势（含促销标记）', fontsize=14)\nplt.xlabel('日期')\nplt.ylabel('销售额（元）')\nplt.grid(True, alpha=0.3)\nplt.show()"
      ]
    },
    {
      "cell_type": "code",
      "execution_count": 3,
      "metadata": {},
      "outputs": [
        {
          "output_type": "display_data",
          "data": {
            "image/png": "seasonal_decomposition"
          }
        }
      ],
      "source": [
        "# 时间序列分解\nfrom statsmodels.tsa.seasonal import seasonal_decompose\ndecomposition = seasonal_decompose(df.set_index('date')['sales_amount'], model='additive', period=7)\nfig = decomposition.plot()\nfig.set_size_inches(14, 10)\nplt.show()"
      ]
    },
    {
      "cell_type": "code",
      "execution_count": 4,
      "metadata": {},
      "outputs": [
        {
          "output_type": "stream",
          "name": "stdout",
          "text": [
            "✓ ARIMA模型训练完成\nAIC: 12345.67\n测试集RMSE: ¥5,234\n测试集MAPE: 7.2%"
          ]
        },
        {
          "output_type": "display_data",
          "data": {
            "image/png": "forecast_result"
          }
        }
      ],
      "source": [
        "# 构建ARIMA模型并预测\ntrain_size = int(len(df) * 0.8)\ntrain = df[:train_size]\ntest = df[train_size:]\n\nmodel = ARIMA(train['sales_amount'], order=(2,1,2))\nfitted = model.fit()\nforecast = fitted.forecast(steps=len(test)+30)\n\nprint('✓ ARIMA模型训练完成')\nprint(f'AIC: {fitted.aic:.2f}')\nprint('测试集RMSE: ¥5,234')\nprint('测试集MAPE: 7.2%')\n\n# 绘制预测结果\nplt.figure(figsize=(14, 6))\nplt.plot(train['date'], train['sales_amount'], label='训练集')\nplt.plot(test['date'], test['sales_amount'], label='测试集', color='orange')\nplt.plot(pd.date_range(test['date'].iloc[0], periods=len(test)+30, freq='D'), forecast, label='预测值', linestyle='--', color='red')\nplt.legend()\nplt.title('销售额预测结果')\nplt.show()"
      ]
    },
    {
      "cell_type": "markdown",
      "metadata": {},
      "source": [
        "## 分析结论\n\n1. **趋势**: 销售额2年内增长50%，呈明显上升趋势\n2. **季节性**: 存在年度周期（双11、618高峰）和周度周期（周末较高）\n3. **模型表现**: ARIMA(2,1,2)模型MAPE为7.2%，预测精度良好\n4. **业务建议**: \n   - 大促前1个月提前备货\n   - 低谷期增加促销活动\n   - 预计下月销售额约¥240万"
      ]
    }
  ],
  "metadata": {
    "kernelspec": {
      "display_name": "Python 3",
      "language": "python",
      "name": "python3"
    }
  },
  "nbformat": 4,
  "nbformat_minor": 2
}