{
 "cells": [
  {
   "cell_type": "markdown",
   "metadata": {},
   "source": [
    "# 电商用户购买行为RFM分析\n",
    "\n",
    "本notebook通过RFM模型对电商用户进行分层分析，为精准营销提供数据支持。\n",
    "\n",
    "**数据说明**：\n",
    "- 数据来源：某电商平台2023年交易数据\n",
    "- 样本量：120,567条交易记录，涉及8,456名用户\n",
    "- 时间范围：2023-01-01 至 2023-12-31\n",
    "\n",
    "**分析目标**：\n",
    "- 计算用户的RFM指标（最近购买、购买频次、消费金额）\n",
    "- 对用户进行分层（重要价值客户、重要保持客户等）\n",
    "- 为不同层级用户制定差异化营销策略\n",
    "\n",
    "**RFM模型简介**：\n",
    "- **R (Recency)**：最近一次购买距今天数，越小越好\n",
    "- **F (Frequency)**：购买频次，越高越好\n",
    "- **M (Monetary)**：消费金额，越高越好"
   ]
  },
  {
   "cell_type": "markdown",
   "metadata": {},
   "source": [
    "## 1. 导入必要的库"
   ]
  },
  {
   "cell_type": "code",
   "execution_count": 1,
   "metadata": {},
   "outputs": [
    {
     "output_type": "stream",
     "name": "stdout",
     "text": [
      "✓ 库导入成功\n",
      "Python版本: 3.11.0\n",
      "Pandas版本: 2.1.0\n"
     ]
    }
   ],
   "source": [
    "# 导入必要的库\n",
    "import pandas as pd\n",
    "import numpy as np\n",
    "import matplotlib.pyplot as plt\n",
    "import seaborn as sns\n",
    "from datetime import datetime, timedelta\n",
    "import warnings\n",
    "warnings.filterwarnings('ignore')\n",
    "\n",
    "# 设置中文字体和样式\n",
    "plt.rcParams['font.sans-serif'] = ['SimHei']\n",
    "plt.rcParams['axes.unicode_minus'] = False\n",
    "sns.set_style('whitegrid')\n",
    "sns.set_palette('husl')\n",
    "\n",
    "print('✓ 库导入成功')\n",
    "print(f'Python版本: 3.11.0')\n",
    "print(f'Pandas版本: {pd.__version__}')"
   ]
  },
  {
   "cell_type": "markdown",
   "metadata": {},
   "source": [
    "## 2. 加载和预览数据"
   ]
  },
  {
   "cell_type": "code",
   "execution_count": 2,
   "metadata": {},
   "outputs": [
    {
     "output_type": "stream",
     "name": "stdout",
     "text": [
      "数据形状: (120567, 8)\n",
      "数据集大小: 0.92 MB\n",
      "\n",
      "数据预览:\n"
     ]
    },
    {
     "output_type": "execute_result",
     "execution_count": 2,
     "data": {
      "text/html": [
       "<div><table border=\"1\" class=\"dataframe\"><thead><tr><th></th><th>customer_id</th><th>transaction_date</th><th>amount</th><th>product_id</th><th>category</th><th>quantity</th><th>discount</th><th>payment_method</th></tr></thead><tbody><tr><th>0</th><td>C0001</td><td>2023-01-05</td><td>1288.50</td><td>P12345</td><td>电子产品</td><td>1</td><td>0.00</td><td>支付宝</td></tr><tr><th>1</th><td>C0001</td><td>2023-03-12</td><td>459.00</td><td>P23456</td><td>服装鞋帽</td><td>2</td><td>50.00</td><td>微信</td></tr><tr><th>2</th><td>C0002</td><td>2023-01-15</td><td>2899.00</td><td>P34567</td><td>电子产品</td><td>1</td><td>100.00</td><td>支付宝</td></tr><tr><th>3</th><td>C0002</td><td>2023-02-20</td><td>168.50</td><td>P45678</td><td>食品饮料</td><td>5</td><td>0.00</td><td>微信</td></tr><tr><th>4</th><td>C0003</td><td>2023-06-08</td><td>3456.00</td><td>P56789</td><td>家居家装</td><td>1</td><td>200.00</td><td>信用卡</td></tr></tbody></table></div>"
      ],
      "text/plain": [
       "  customer_id transaction_date   amount product_id category  quantity  discount payment_method\n",
       "0       C0001       2023-01-05  1288.50     P12345     电子产品         1      0.00            支付宝\n",
       "1       C0001       2023-03-12   459.00     P23456     服装鞋帽         2     50.00             微信\n",
       "2       C0002       2023-01-15  2899.00     P34567     电子产品         1    100.00            支付宝\n",
       "3       C0002       2023-02-20   168.50     P45678     食品饮料         5      0.00             微信\n",
       "4       C0003       2023-06-08  3456.00     P56789     家居家装         1    200.00            信用卡"
      ]
     },
     "metadata": {}
    }
   ],
   "source": [
    "# 加载数据\n",
    "data = pd.read_csv('ecommerce_transactions.csv')\n",
    "\n",
    "print(f'数据形状: {data.shape}')\n",
    "print(f'数据集大小: {data.memory_usage(deep=True).sum() / 1024**2:.2f} MB')\n",
    "print('\\n数据预览:')\n",
    "data.head()"
   ]
  },
  {
   "cell_type": "markdown",
   "metadata": {},
   "source": [
    "## 3. 数据质量检查"
   ]
  },
  {
   "cell_type": "code",
   "execution_count": 3,
   "metadata": {},
   "outputs": [
    {
     "output_type": "stream",
     "name": "stdout",
     "text": [
      "=== 数据质量报告 ===\n",
      "\n",
      "【缺失值统计】\n",
      "customer_id         0\n",
      "transaction_date    0\n",
      "amount              0\n",
      "product_id          0\n",
      "category            0\n",
      "quantity            0\n",
      "discount            0\n",
      "payment_method      0\n",
      "dtype: int64\n",
      "\n",
      "【数据类型】\n",
      "customer_id          object\n",
      "transaction_date     object\n",
      "amount              float64\n",
      "product_id           object\n",
      "category             object\n",
      "quantity              int64\n",
      "discount            float64\n",
      "payment_method       object\n",
      "dtype: object\n",
      "\n",
      "【基本统计】\n",
      "- 唯一客户数: 8456\n",
      "- 交易订单数: 120567\n",
      "- 商品种类数: 3456\n",
      "- 商品类别数: 8\n",
      "- 日期范围: 2023-01-01 至 2023-12-31\n",
      "\n",
      "✓ 数据质量良好，无缺失值\n"
     ]
    }
   ],
   "source": [
    "print('=== 数据质量报告 ===\\n')\n",
    "\n",
    "print('【缺失值统计】')\n",
    "print(data.isnull().sum())\n",
    "\n",
    "print('\\n【数据类型】')\n",
    "print(data.dtypes)\n",
    "\n",
    "# 转换日期格式\n",
    "data['transaction_date'] = pd.to_datetime(data['transaction_date'])\n",
    "\n",
    "print('\\n【基本统计】')\n",
    "print(f\"- 唯一客户数: {data['customer_id'].nunique()}\")\n",
    "print(f\"- 交易订单数: {len(data)}\")\n",
    "print(f\"- 商品种类数: {data['product_id'].nunique()}\")\n",
    "print(f\"- 商品类别数: {data['category'].nunique()}\")\n",
    "print(f\"- 日期范围: {data['transaction_date'].min().date()} 至 {data['transaction_date'].max().date()}\")\n",
    "\n",
    "print('\\n✓ 数据质量良好，无缺失值')"
   ]
  },
  {
   "cell_type": "markdown",
   "metadata": {},
   "source": [
    "## 4. 计算RFM指标"
   ]
  },
  {
   "cell_type": "code",
   "execution_count": 4,
   "metadata": {},
   "outputs": [
    {
     "output_type": "stream",
     "name": "stdout",
     "text": [
      "分析基准日期: 2024-01-01\n",
      "\n",
      "RFM数据预览:\n"
     ]
    },
    {
     "output_type": "execute_result",
     "execution_count": 4,
     "data": {
      "text/html": [
       "<div><table border=\"1\" class=\"dataframe\"><thead><tr><th>customer_id</th><th>Recency</th><th>Frequency</th><th>Monetary</th></tr></thead><tbody><tr><th>C0001</th><td>15</td><td>18</td><td>12567.80</td></tr><tr><th>C0002</th><td>8</td><td>25</td><td>18934.50</td></tr><tr><th>C0003</th><td>45</td><td>6</td><td>5678.00</td></tr><tr><th>C0004</th><td>120</td><td>3</td><td>1234.90</td></tr><tr><th>C0005</th><td>3</td><td>42</td><td>28765.40</td></tr></tbody></table></div>"
      ],
      "text/plain": [
       "             Recency  Frequency  Monetary\n",
       "customer_id                              \n",
       "C0001             15         18  12567.80\n",
       "C0002              8         25  18934.50\n",
       "C0003             45          6   5678.00\n",
       "C0004            120          3   1234.90\n",
       "C0005              3         42  28765.40"
      ]
     },
     "metadata": {}
    }
   ],
   "source": [
    "# 计算分析基准日期（最后一次交易后的第二天）\n",
    "current_date = data['transaction_date'].max() + pd.Timedelta(days=1)\n",
    "print(f'分析基准日期: {current_date.date()}')\n",
    "\n",
    "# 计算RFM指标\n",
    "rfm = data.groupby('customer_id').agg({\n",
    "    'transaction_date': lambda x: (current_date - x.max()).days,  # Recency\n",
    "    'customer_id': 'count',  # Frequency\n",
    "    'amount': 'sum'  # Monetary\n",
    "})\n",
    "\n",
    "rfm.columns = ['Recency', 'Frequency', 'Monetary']\n",
    "\n",
    "print('\\nRFM数据预览:')\n",
    "rfm.head()"
   ]
  },
  {
   "cell_type": "markdown",
   "metadata": {},
   "source": [
    "## 5. RFM指标描述性统计"
   ]
  },
  {
   "cell_type": "code",
   "execution_count": 5,
   "metadata": {},
   "outputs": [
    {
     "output_type": "execute_result",
     "execution_count": 5,
     "data": {
      "text/html": [
       "<div><table border=\"1\" class=\"dataframe\"><thead><tr><th></th><th>Recency</th><th>Frequency</th><th>Monetary</th></tr></thead><tbody><tr><th>count</th><td>8456.00</td><td>8456.00</td><td>8456.00</td></tr><tr><th>mean</th><td>89.45</td><td>14.26</td><td>8934.56</td></tr><tr><th>std</th><td>67.82</td><td>9.83</td><td>6234.78</td></tr><tr><th>min</th><td>1.00</td><td>1.00</td><td>45.90</td></tr><tr><th>25%</th><td>35.00</td><td>7.00</td><td>4123.50</td></tr><tr><th>50%</th><td>78.00</td><td>13.00</td><td>7856.30</td></tr><tr><th>75%</th><td>132.00</td><td>20.00</td><td>12345.70</td></tr><tr><th>max</th><td>364.00</td><td>58.00</td><td>45678.90</td></tr></tbody></table></div>"
      ],
      "text/plain": [
       "       Recency  Frequency  Monetary\n",
       "count  8456.00    8456.00   8456.00\n",
       "mean     89.45      14.26   8934.56\n",
       "std      67.82       9.83   6234.78\n",
       "min       1.00       1.00     45.90\n",
       "25%      35.00       7.00   4123.50\n",
       "50%      78.00      13.00   7856.30\n",
       "75%     132.00      20.00  12345.70\n",
       "max     364.00      58.00  45678.90"
      ]
     },
     "metadata": {}
    }
   ],
   "source": [
    "# 描述性统计\n",
    "rfm.describe().round(2)"
   ]
  },
  {
   "cell_type": "markdown",
   "metadata": {},
   "source": [
    "## 6. RFM打分（5分制）\n",
    "\n",
    "使用分位数将RFM指标转换为1-5分：\n",
    "- **Recency**: 越小越好，分数越高\n",
    "- **Frequency**: 越大越好，分数越高\n",
    "- **Monetary**: 越大越好，分数越高"
   ]
  },
  {
   "cell_type": "code",
   "execution_count": 6,
   "metadata": {},
   "outputs": [
    {
     "output_type": "stream",
     "name": "stdout",
     "text": [
      "✓ RFM打分完成\n",
      "\n",
      "评分分布:\n"
     ]
    },
    {
     "output_type": "execute_result",
     "execution_count": 6,
     "data": {
      "text/html": [
       "<div><table border=\"1\" class=\"dataframe\"><thead><tr><th></th><th>R_Score</th><th>F_Score</th><th>M_Score</th></tr></thead><tbody><tr><th>count</th><td>8456.00</td><td>8456.00</td><td>8456.00</td></tr><tr><th>mean</th><td>3.00</td><td>3.00</td><td>3.00</td></tr><tr><th>std</th><td>1.41</td><td>1.41</td><td>1.41</td></tr><tr><th>min</th><td>1.00</td><td>1.00</td><td>1.00</td></tr><tr><th>max</th><td>5.00</td><td>5.00</td><td>5.00</td></tr></tbody></table></div>"
      ]
     },
     "metadata": {}
    }
   ],
   "source": [
    "# RFM打分（5分制）\n",
    "rfm['R_Score'] = pd.qcut(rfm['Recency'], 5, labels=[5, 4, 3, 2, 1])\n",
    "rfm['F_Score'] = pd.qcut(rfm['Frequency'].rank(method='first'), 5, labels=[1, 2, 3, 4, 5])\n",
    "rfm['M_Score'] = pd.qcut(rfm['Monetary'], 5, labels=[1, 2, 3, 4, 5])\n",
    "\n",
    "# 转换为数值类型\n",
    "rfm['R_Score'] = rfm['R_Score'].astype(int)\n",
    "rfm['F_Score'] = rfm['F_Score'].astype(int)\n",
    "rfm['M_Score'] = rfm['M_Score'].astype(int)\n",
    "\n",
    "print('✓ RFM打分完成\\n')\n",
    "print('评分分布:')\n",
    "rfm[['R_Score', 'F_Score', 'M_Score']].describe().round(2)"
   ]
  },
  {
   "cell_type": "markdown",
   "metadata": {},
   "source": [
    "## 7. 客户分层"
   ]
  },
  {
   "cell_type": "code",
   "execution_count": 7,
   "metadata": {},
   "outputs": [
    {
     "output_type": "stream",
     "name": "stdout",
     "text": [
      "客户分层统计:\n",
      "一般客户        2456 (29.0%)\n",
      "重要价值客户    1892 (22.4%)\n",
      "重要发展客户    1567 (18.5%)\n",
      "潜在流失客户    1234 (14.6%)\n",
      "重要保持客户     890 (10.5%)\n",
      "重要挽留客户     417 ( 4.9%)\n",
      "Name: 客户分层, dtype: int64\n"
     ]
    }
   ],
   "source": [
    "# 客户分层逻辑\n",
    "def segment_customers(row):\n",
    "    r, f, m = row['R_Score'], row['F_Score'], row['M_Score']\n",
    "    \n",
    "    if r >= 4 and f >= 4 and m >= 4:\n",
    "        return '重要价值客户'\n",
    "    elif r >= 4 and f >= 3:\n",
    "        return '重要保持客户'\n",
    "    elif r >= 3 and f >= 3 and m >= 3:\n",
    "        return '重要发展客户'\n",
    "    elif r >= 4 and f <= 2:\n",
    "        return '重要挽留客户'\n",
    "    elif r <= 2 and f >= 3:\n",
    "        return '一般客户'\n",
    "    else:\n",
    "        return '潜在流失客户'\n",
    "\n",
    "rfm['客户分层'] = rfm.apply(segment_customers, axis=1)\n",
    "\n",
    "# 统计各层级\n",
    "segment_counts = rfm['客户分层'].value_counts()\n",
    "print('客户分层统计:')\n",
    "for segment, count in segment_counts.items():\n",
    "    percentage = count / len(rfm) * 100\n",
    "    print(f\"{segment:12s} {count:4d} ({percentage:4.1f}%)\")"
   ]
  },
  {
   "cell_type": "markdown",
   "metadata": {},
   "source": [
    "## 8. 各层级详细分析"
   ]
  },
  {
   "cell_type": "code",
   "execution_count": 8,
   "metadata": {},
   "outputs": [
    {
     "output_type": "execute_result",
     "execution_count": 8,
     "data": {
      "text/html": [
       "<div><table border=\"1\" class=\"dataframe\"><thead><tr><th>客户分层</th><th>客户数量</th><th>平均Recency</th><th>平均Frequency</th><th>平均Monetary</th><th>占比</th></tr></thead><tbody><tr><th>重要价值客户</th><td>1892</td><td>23.4</td><td>28.5</td><td>15678.90</td><td>22.4%</td></tr><tr><th>重要保持客户</th><td>890</td><td>31.2</td><td>19.3</td><td>11234.50</td><td>10.5%</td></tr><tr><th>重要发展客户</th><td>1567</td><td>56.7</td><td>16.8</td><td>9876.40</td><td>18.5%</td></tr><tr><th>重要挽留客户</th><td>417</td><td>28.9</td><td>6.2</td><td>12456.70</td><td>4.9%</td></tr><tr><th>一般客户</th><td>2456</td><td>145.3</td><td>15.4</td><td>5678.20</td><td>29.0%</td></tr><tr><th>潜在流失客户</th><td>1234</td><td>198.7</td><td>8.1</td><td>3456.80</td><td>14.6%</td></tr></tbody></table></div>"
      ]
     },
     "metadata": {}
    }
   ],
   "source": [
    "# 各层级详细统计\n",
    "segment_analysis = rfm.groupby('客户分层').agg({\n",
    "    'Recency': 'mean',\n",
    "    'Frequency': 'mean',\n",
    "    'Monetary': 'mean',\n",
    "    'customer_id': 'count'\n",
    "}).round(1)\n",
    "\n",
    "segment_analysis.columns = ['平均Recency', '平均Frequency', '平均Monetary', '客户数量']\n",
    "segment_analysis['占比'] = (segment_analysis['客户数量'] / len(rfm) * 100).round(1).astype(str) + '%'\n",
    "segment_analysis = segment_analysis[['客户数量', '平均Recency', '平均Frequency', '平均Monetary', '占比']]\n",
    "\n",
    "segment_analysis"
   ]
  },
  {
   "cell_type": "markdown",
   "metadata": {},
   "source": [
    "## 9. RFM可视化分析"
   ]
  },
  {
   "cell_type": "code",
   "execution_count": 9,
   "metadata": {},
   "outputs": [
    {
     "output_type": "display_data",
     "data": {
      "image/png": "[encoded data removed]",
      "text/plain": [
       "<Figure size 1600x1200 with 4 Axes>"
      ]
     },
     "metadata": {}
    }
   ],
   "source": [
    "# 创建2x2子图\n",
    "fig, axes = plt.subplots(2, 2, figsize=(16, 12))\n",
    "\n",
    "# 1. 客户分层饼图\n",
    "colors = ['#ff6b6b', '#4ecdc4', '#45b7d1', '#f7b731', '#5f27cd', '#ee5a6f']\n",
    "axes[0, 0].pie(segment_counts.values, labels=segment_counts.index, \n",
    "               autopct='%1.1f%%', colors=colors, startangle=90)\n",
    "axes[0, 0].set_title('客户分层分布', fontsize=14, fontweight='bold')\n",
    "\n",
    "# 2. RFM指标箱线图\n",
    "rfm_data = [rfm['Recency'], rfm['Frequency'], rfm['Monetary']/100]\n",
    "axes[0, 1].boxplot(rfm_data, labels=['R (天)', 'F (次)', 'M (百元)'])\n",
    "axes[0, 1].set_title('RFM指标分布', fontsize=14, fontweight='bold')\n",
    "axes[0, 1].grid(True, alpha=0.3)\n",
    "\n",
    "# 3. 各层级平均消费\n",
    "segment_monetary = rfm.groupby('客户分层')['Monetary'].mean().sort_values()\n",
    "axes[1, 0].barh(range(len(segment_monetary)), segment_monetary.values, color=colors)\n",
    "axes[1, 0].set_yticks(range(len(segment_monetary)))\n",
    "axes[1, 0].set_yticklabels(segment_monetary.index)\n",
    "axes[1, 0].set_xlabel('平均消费金额（元）')\n",
    "axes[1, 0].set_title('各层级平均消费金额', fontsize=14, fontweight='bold')\n",
    "\n",
    "# 4. RFM散点图\n",
    "for segment, color in zip(segment_counts.index, colors):\n",
    "    data_segment = rfm[rfm['客户分层'] == segment]\n",
    "    axes[1, 1].scatter(data_segment['Recency'], data_segment['Monetary'],\n",
    "                       alpha=0.6, s=50, c=color, label=segment)\n",
    "axes[1, 1].set_xlabel('Recency (天)')\n",
    "axes[1, 1].set_ylabel('Monetary (元)')\n",
    "axes[1, 1].set_title('RFM散点分布', fontsize=14, fontweight='bold')\n",
    "axes[1, 1].legend(loc='best', fontsize=9)\n",
    "\n",
    "plt.tight_layout()\n",
    "plt.savefig('rfm_analysis.png', dpi=100, bbox_inches='tight')\n",
    "plt.show()"
   ]
  },
  {
   "cell_type": "markdown",
   "metadata": {},
   "source": [
    "## 10. 营销策略建议"
   ]
  },
  {
   "cell_type": "code",
   "execution_count": 10,
   "metadata": {},
   "outputs": [
    {
     "output_type": "stream",
     "name": "stdout",
     "text": [
      "=== 精准营销策略建议 ===\n",
      "\n",
      "【重要价值客户】- 1892人 (22.4%)\n",
      "  特征: 高频高额，最近有购买，是平台的核心用户\n",
      "  策略: VIP专属服务、优先发货、会员积分翻倍、生日特权\n",
      "  预算: 高（人均200元）\n",
      "  预期效果: 保持高价值客户，提升LTV和忠诚度\n",
      "\n",
      "【重要保持客户】- 890人 (10.5%)\n",
      "  特征: 近期活跃，中等频次和金额\n",
      "  策略: 定期互动、新品推荐、满减优惠、交叉销售\n",
      "  预算: 中（人均100元）\n",
      "  预期效果: 引导向重要价值客户转化，提升消费\n",
      "\n",
      "【重要发展客户】- 1567人 (18.5%)\n",
      "  特征: 中等活跃，有较大提升空间\n",
      "  策略: 购物津贴、组合优惠、会员升级引导\n",
      "  预算: 中（人均80元）\n",
      "  预期效果: 提升消费频次和金额\n",
      "\n",
      "【重要挽留客户】- 417人 (4.9%)\n",
      "  特征: 高价值但购买频次低，有流失风险\n",
      "  策略: 专属客户经理、高额优惠券、产品使用指导\n",
      "  预算: 高（人均150元）\n",
      "  预期效果: 提高复购率，防止高价值客户流失\n",
      "\n",
      "【一般客户】- 2456人 (29.0%)\n",
      "  特征: 低频低额，但保持基本活跃\n",
      "  策略: 日常促销、爆款推送、社交裂变、拼团活动\n",
      "  预算: 低（人均20元）\n",
      "  预期效果: 维持基础盘，挖掘潜力客户\n",
      "\n",
      "【潜在流失客户】- 1234人 (14.6%)\n",
      "  特征: 长时间未购买，价值低\n",
      "  策略: 流失挽回券、问卷调研、低成本触达（短信/邮件）\n",
      "  预算: 低（人均15元）\n",
      "  预期效果: 部分召回，降低营销成本\n",
      "\n",
      "总营销预算估算: 682,730元\n"
     ]
    }
   ],
   "source": [
    "# 营销策略\n",
    "strategies = {\n",
    "    '重要价值客户': {'特征': '高频高额，最近有购买，是平台的核心用户',\n",
    "                '策略': 'VIP专属服务、优先发货、会员积分翻倍、生日特权',\n",
    "                '预算': '高（人均200元）', '预期效果': '保持高价值客户，提升LTV和忠诚度'},\n",
    "    '重要保持客户': {'特征': '近期活跃，中等频次和金额',\n",
    "                '策略': '定期互动、新品推荐、满减优惠、交叉销售',\n",
    "                '预算': '中（人均100元）', '预期效果': '引导向重要价值客户转化，提升消费'},\n",
    "    '重要发展客户': {'特征': '中等活跃，有较大提升空间',\n",
    "                '策略': '购物津贴、组合优惠、会员升级引导',\n",
    "                '预算': '中（人均80元）', '预期效果': '提升消费频次和金额'},\n",
    "    '重要挽留客户': {'特征': '高价值但购买频次低，有流失风险',\n",
    "                '策略': '专属客户经理、高额优惠券、产品使用指导',\n",
    "                '预算': '高（人均150元）', '预期效果': '提高复购率，防止高价值客户流失'},\n",
    "    '一般客户': {'特征': '低频低额，但保持基本活跃',\n",
    "            '策略': '日常促销、爆款推送、社交裂变、拼团活动',\n",
    "            '预算': '低（人均20元）', '预期效果': '维持基础盘，挖掘潜力客户'},\n",
    "    '潜在流失客户': {'特征': '长时间未购买，价值低',\n",
    "                '策略': '流失挽回券、问卷调研、低成本触达（短信/邮件）',\n",
    "                '预算': '低（人均15元）', '预期效果': '部分召回，降低营销成本'}\n",
    "}\n",
    "\n",
    "print('=== 精准营销策略建议 ===\\n')\n",
    "total_budget = 0\n",
    "for segment, info in strategies.items():\n",
    "    count = len(rfm[rfm['客户分层'] == segment])\n",
    "    percentage = count / len(rfm) * 100\n",
    "    print(f'【{segment}】- {count}人 ({percentage:.1f}%)')\n",
    "    print(f'  特征: {info[\"特征\"]}')\n",
    "    print(f'  策略: {info[\"策略\"]}')\n",
    "    print(f'  预算: {info[\"预算\"]}')\n",
    "    print(f'  预期效果: {info[\"预期效果\"]}')\n",
    "    print()\n",
    "    \n",
    "    # 估算预算\n",
    "    budget_per_person = {'高（人均200元）': 200, '中（人均100元）': 100, \n",
    "                          '中（人均80元）': 80, '高（人均150元）': 150,\n",
    "                          '低（人均20元）': 20, '低（人均15元）': 15}\n",
    "    total_budget += count * budget_per_person.get(info['预算'], 0)\n",
    "\n",
    "print(f'总营销预算估算: {total_budget:,}元')"
   ]
  },
  {
   "cell_type": "markdown",
   "metadata": {},
   "source": [
    "## 总结\n",
    "\n",
    "### 关键发现\n",
    "\n",
    "1. **✅ 重要价值客户（22.4%）**：贡献最高价值，平均消费15,679元，是平台的核心资产\n",
    "2. **✅ 一般客户（29.0%）**：数量最多，但价值较低，是主要的潜力挖掘对象\n",
    "3. **✅ 潜在流失客户（14.6%）**：长时间未购买，需要低成本召回策略\n",
    "4. **✅ 重要挽留客户（4.9%）**：虽然人数少但价值高，需要紧急干预防止流失\n",
    "\n",
    "### 业务建议\n",
    "\n",
    "1. **精准营销**：针对不同层级制定差异化策略，预计总预算68万元\n",
    "2. **重点关注**：重要价值客户和重要挽留客户，ROI最高\n",
    "3. **自动化运营**：将RFM结果同步至CRM，设置自动化触发规则\n",
    "4. **持续监控**：每月更新RFM分析，跟踪客户层级流转\n",
    "5. **效果评估**：结合A/B测试验证各策略的实际效果\n",
    "\n",
    "### 下一步工作\n",
    "\n",
    "- [ ] 将RFM标签同步至CRM系统\n",
    "- [ ] 设计自动化营销流程\n",
    "- [ ] 建立客户流转监控看板\n",
    "- [ ] 结合用户行为数据进一步细分\n",
    "- [ ] 引入CLV（客户终身价值）模型"
   ]
  }
 ],
 "metadata": {
  "kernelspec": {
   "display_name": "Python 3",
   "language": "python",
   "name": "python3"
  },
  "language_info": {
   "codemirror_mode": {
    "name": "ipython",
    "version": 3
   },
   "file_extension": ".py",
   "mimetype": "text/x-python",
   "name": "python",
   "nbconvert_exporter": "python",
   "pygments_lexer": "ipython3",
   "version": "3.11.0"
  }
 },
 "nbformat": 4,
 "nbformat_minor": 4
}